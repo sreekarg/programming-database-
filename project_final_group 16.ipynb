{
 "cells": [
  {
   "cell_type": "code",
   "execution_count": 1,
   "metadata": {},
   "outputs": [
    {
     "data": {
      "text/html": [
       "<script>\n",
       "code_show=true; \n",
       "function code_toggle() {\n",
       " if (code_show){\n",
       " $('div.input').hide();\n",
       " } else {\n",
       " $('div.input').show();\n",
       " }\n",
       " code_show = !code_show\n",
       "} \n",
       "$( document ).ready(code_toggle);\n",
       "</script>\n",
       "<form action=\"javascript:code_toggle()\"><input type=\"submit\" value=\"Click here to toggle on/off the raw code.\"></form>"
      ],
      "text/plain": [
       "<IPython.core.display.HTML object>"
      ]
     },
     "execution_count": 1,
     "metadata": {},
     "output_type": "execute_result"
    }
   ],
   "source": [
    "from IPython.display import HTML\n",
    "\n",
    "HTML('''<script>\n",
    "code_show=true; \n",
    "function code_toggle() {\n",
    " if (code_show){\n",
    " $('div.input').hide();\n",
    " } else {\n",
    " $('div.input').show();\n",
    " }\n",
    " code_show = !code_show\n",
    "} \n",
    "$( document ).ready(code_toggle);\n",
    "</script>\n",
    "<form action=\"javascript:code_toggle()\"><input type=\"submit\" value=\"Click here to toggle on/off the raw code.\"></form>''')"
   ]
  },
  {
   "cell_type": "code",
   "execution_count": 2,
   "metadata": {},
   "outputs": [],
   "source": [
    "# import os\n",
    "import sqlite3 as sql\n",
    "from sqlite3 import Error\n",
    "import numpy as np\n",
    "import pandas as pd\n",
    "import plotly.graph_objects as go\n",
    "import plotly.offline as py\n",
    "import matplotlib.pyplot as plt\n"
   ]
  },
  {
   "cell_type": "markdown",
   "metadata": {},
   "source": [
    "Creating connection to database"
   ]
  },
  {
   "cell_type": "code",
   "execution_count": 3,
   "metadata": {},
   "outputs": [],
   "source": [
    "def create_connection(db_file, delete_db=False):\n",
    "    if delete_db and os.path.exists(db_file):\n",
    "        os.remove(db_file)\n",
    "    conn = None\n",
    "    try:\n",
    "        conn = sql.connect(db_file)\n",
    "        conn.execute(\"PRAGMA foreign_keys = 1\")\n",
    "    except Error as e:\n",
    "        print(e)\n",
    "\n",
    "    return conn\n",
    "\n"
   ]
  },
  {
   "cell_type": "markdown",
   "metadata": {},
   "source": [
    "\n",
    "Creating neccessary tables from the existing tables\n"
   ]
  },
  {
   "cell_type": "code",
   "execution_count": 4,
   "metadata": {},
   "outputs": [
    {
     "ename": "OperationalError",
     "evalue": "table A_5_14_DEATHS_B_M already exists",
     "output_type": "error",
     "traceback": [
      "\u001b[0;31m---------------------------------------------------------------------------\u001b[0m",
      "\u001b[0;31mOperationalError\u001b[0m                          Traceback (most recent call last)",
      "\u001b[0;32m<ipython-input-4-50a40828c988>\u001b[0m in \u001b[0;36m<module>\u001b[0;34m\u001b[0m\n\u001b[1;32m     21\u001b[0m         \u001b[0;32mif\u001b[0m \u001b[0;32mnot\u001b[0m \u001b[0mi\u001b[0m\u001b[0;34m.\u001b[0m\u001b[0mendswith\u001b[0m\u001b[0;34m(\u001b[0m\u001b[0;34m'_M'\u001b[0m\u001b[0;34m)\u001b[0m \u001b[0;34m:\u001b[0m\u001b[0;34m\u001b[0m\u001b[0;34m\u001b[0m\u001b[0m\n\u001b[1;32m     22\u001b[0m             \u001b[0mnew_table_name\u001b[0m \u001b[0;34m=\u001b[0m \u001b[0mi\u001b[0m \u001b[0;34m+\u001b[0m \u001b[0;34m'_B_M'\u001b[0m\u001b[0;34m\u001b[0m\u001b[0;34m\u001b[0m\u001b[0m\n\u001b[0;32m---> 23\u001b[0;31m             \u001b[0mcur\u001b[0m\u001b[0;34m.\u001b[0m\u001b[0mexecute\u001b[0m\u001b[0;34m(\u001b[0m\u001b[0;34m'CREATE TABLE {new} AS SELECT * FROM {old} where Uncertainty_bounds = ?;'\u001b[0m\u001b[0;34m.\u001b[0m\u001b[0mformat\u001b[0m\u001b[0;34m(\u001b[0m\u001b[0mnew\u001b[0m \u001b[0;34m=\u001b[0m \u001b[0mnew_table_name\u001b[0m\u001b[0;34m,\u001b[0m \u001b[0mold\u001b[0m \u001b[0;34m=\u001b[0m \u001b[0mi\u001b[0m\u001b[0;34m)\u001b[0m\u001b[0;34m,\u001b[0m\u001b[0;34m(\u001b[0m\u001b[0mfilter_name\u001b[0m\u001b[0;34m,\u001b[0m\u001b[0;34m)\u001b[0m\u001b[0;34m)\u001b[0m\u001b[0;34m\u001b[0m\u001b[0;34m\u001b[0m\u001b[0m\n\u001b[0m\u001b[1;32m     24\u001b[0m \u001b[0;31m#             cur.execute('ALTER TABLE {new} DROP  COLUMN Uncertainty_bounds ;'.format(new = new_table_name))\u001b[0m\u001b[0;34m\u001b[0m\u001b[0;34m\u001b[0m\u001b[0;34m\u001b[0m\u001b[0m\n\u001b[1;32m     25\u001b[0m             \u001b[0mtemp_list\u001b[0m\u001b[0;34m.\u001b[0m\u001b[0mappend\u001b[0m\u001b[0;34m(\u001b[0m\u001b[0mnew_table_name\u001b[0m\u001b[0;34m)\u001b[0m\u001b[0;34m\u001b[0m\u001b[0;34m\u001b[0m\u001b[0m\n",
      "\u001b[0;31mOperationalError\u001b[0m: table A_5_14_DEATHS_B_M already exists"
     ]
    }
   ],
   "source": [
    "## creating neccessary tables from the existing tables\n",
    "db_file = 'project.db'\n",
    "conn = create_connection(db_file)\n",
    "with conn :\n",
    "    cur = conn.cursor()\n",
    "    rows = cur.execute(\"SELECT name FROM sqlite_master WHERE type='table';\").fetchall()\n",
    "    list_of_tables_in_db = []\n",
    "    for row in rows:\n",
    "        list_of_tables_in_db.append(row[0])\n",
    "    filter_name = 'Median'\n",
    "    temp_list = []\n",
    "    for i in list_of_tables_in_db :\n",
    "        cur.execute('PRAGMA TABLE_INFO({})'.format(i));\n",
    "        sd = cur.fetchall();\n",
    "        list_of_columns = [tup[1] for tup in sd];\n",
    "        line = ''\n",
    "        for j in list_of_columns :\n",
    "            temp = j +' = CASE '+ j +' WHEN '+'\\'\\''+ ' THEN NULL ELSE '+j+' END,'\n",
    "            line += temp\n",
    "        cur.execute('UPDATE {table_name} SET {line} ;'.format(table_name = i,line = line[:-1]))\n",
    "        if not i.endswith('_M') :\n",
    "            new_table_name = i + '_B_M'\n",
    "            cur.execute('CREATE TABLE {new} AS SELECT * FROM {old} where Uncertainty_bounds = ?;'.format(new = new_table_name, old = i),(filter_name,))\n",
    "#             cur.execute('ALTER TABLE {new} DROP  COLUMN Uncertainty_bounds ;'.format(new = new_table_name))\n",
    "            temp_list.append(new_table_name)\n",
    "    list_of_tables_in_db.extend(temp_list)\n",
    "    conn.commit()\n",
    "conn.close()"
   ]
  },
  {
   "cell_type": "markdown",
   "metadata": {},
   "source": [
    "\n",
    "Storing the names of all tables in a list for furthur use\n"
   ]
  },
  {
   "cell_type": "code",
   "execution_count": null,
   "metadata": {},
   "outputs": [],
   "source": [
    "## stores the names of all countries\n",
    "db_file = 'project.db'\n",
    "conn = create_connection(db_file)\n",
    "\n",
    "with conn :\n",
    "    cur = conn.cursor()\n",
    "    rows = cur.execute(\"SELECT name FROM sqlite_master WHERE type='table';\").fetchall()\n",
    "    list_of_tables_in_db = []\n",
    "    for row in rows:\n",
    "        list_of_tables_in_db.append(row[0])\n",
    "\n",
    "conn.close()"
   ]
  },
  {
   "cell_type": "markdown",
   "metadata": {},
   "source": [
    "\n",
    "Storing country names in both Case sensitive and Case insensitive for further use\n"
   ]
  },
  {
   "cell_type": "code",
   "execution_count": null,
   "metadata": {},
   "outputs": [],
   "source": [
    "##storing name if the countries in a list for both case sensitive and insensitive\n",
    "db_file = 'project.db'\n",
    "conn = create_connection(db_file)\n",
    "country_names = pd.read_sql_query('select distinct(Country_Name) from IMR_MALE_M',conn).set_index('Country_Name').transpose()\n",
    "country_names_list = country_names.keys()\n",
    "case_insensitive_country_names = [i.lower() for i in country_names_list]\n",
    "\n"
   ]
  },
  {
   "cell_type": "markdown",
   "metadata": {},
   "source": [
    "\n",
    "Creating dictionary of dataframes for all years of Number of deaths in each category\n"
   ]
  },
  {
   "cell_type": "code",
   "execution_count": null,
   "metadata": {},
   "outputs": [],
   "source": [
    "### deaths_data\n",
    "deaths_data_every_year={}\n",
    "db_file = 'project.db'\n",
    "conn = create_connection(db_file)\n",
    "for yr in np.arange(1950,2019):\n",
    "    i = str(yr)\n",
    "    with conn :\n",
    "        cur = conn.cursor()\n",
    "        deaths_data = pd.read_sql_query(\"SELECT A.ISO_Code AS ISO_Code, A.Country_Name AS Country , A.y_\"+i+\" AS AGE_5_14 ,I.y_\"+i+\" AS INFANT ,N.y_\"+i+\" AS NEONATAL ,U.y_\"+i+\" AS UNDER_5  FROM A_5_14_DEATHS_B_M A INNER JOIN INFANT_DEATHS_B_M I USING (ISO_Code) INNER JOIN NEONATAL_DEATHS_B_M N USING (ISO_Code) INNER JOIN U5MR_DEATHS_B_M U USING (ISO_Code)\",conn);\n",
    "        deaths_data_every_year[yr]=deaths_data\n",
    "conn.close()"
   ]
  },
  {
   "cell_type": "markdown",
   "metadata": {},
   "source": [
    "\n",
    "Creating dictionary of dataframes for all years of Mortality Rates in each category\n"
   ]
  },
  {
   "cell_type": "code",
   "execution_count": null,
   "metadata": {},
   "outputs": [],
   "source": [
    "### mortality_rate_data\n",
    "mortality_rate_data_every_year={}\n",
    "db_file = 'project.db'\n",
    "conn = create_connection(db_file)\n",
    "for yr in np.arange(1950,2019):\n",
    "    i = str(yr)\n",
    "    with conn :\n",
    "        cur = conn.cursor()\n",
    "        mortality_rate_data = pd.read_sql_query(\"SELECT A.ISO_Code AS ISO_Code, A.Country_Name AS Country , A.y_\"+i+\" AS AGE_5_14 ,I.y_\"+i+\" AS INFANT ,N.y_\"+i+\" AS NEONATAL ,U.y_\"+i+\" AS UNDER_5  FROM A_5_14_MORTALITY_RATE_B_M A INNER JOIN INFANT_MORTALITY_RATE_B_M I USING (ISO_Code) INNER JOIN NEONATAL_MORTALITY_RATE_B_M N USING (ISO_Code) INNER JOIN U5MR_MORTALITY_RATE_B_M U USING (ISO_Code)\",conn);\n",
    "        mortality_rate_data_every_year[yr]=mortality_rate_data\n",
    "conn.close()"
   ]
  },
  {
   "cell_type": "raw",
   "metadata": {},
   "source": [
    "### deaths_data\n",
    "deaths_data_every_year={}\n",
    "db_file = 'project.db'\n",
    "conn = create_connection(db_file)\n",
    "for yr in np.arange(1950,2019):\n",
    "    i = str(yr)\n",
    "    with conn :\n",
    "        cur = conn.cursor()\n",
    "        deaths_data = pd.read_sql_query(\"SELECT A.ISO_Code AS ISO_Code, A.Country_Name AS Country , A.y_\"+i+\" AS AGE_5_14 ,I.y_\"+i+\" AS INFANT ,N.y_\"+i+\" AS NEONATAL ,U.y_\"+i+\" AS UNDER_5  FROM A_5_14_DEATHS_B_M A INNER JOIN INFANT_DEATHS_B_M I USING (ISO_Code) INNER JOIN NEONATAL_DEATHS_B_M N USING (ISO_Code) INNER JOIN U5MR_DEATHS_B_M U USING (ISO_Code)\",conn);\n",
    "        deaths_data_every_year[yr]=deaths_data\n",
    "conn.close()"
   ]
  },
  {
   "cell_type": "markdown",
   "metadata": {},
   "source": [
    "\n",
    "Function to display pie chart of Number of deaths for a specific year and country\n"
   ]
  },
  {
   "cell_type": "code",
   "execution_count": null,
   "metadata": {},
   "outputs": [],
   "source": [
    "## function to display pie chart for a specific year and country\n",
    "def pie_chart_country_year(country,year = 2018):\n",
    "    \n",
    "    df = deaths_data_every_year[year][['Country', 'AGE_5_14', 'INFANT', 'NEONATAL', 'UNDER_5']]\n",
    "    data = df.set_index('Country').transpose();\n",
    "    \n",
    "    country = country_names_list[case_insensitive_country_names.index(country)]\n",
    "    if not data[country].isna().values.any():\n",
    "        fig = go.Figure(data = [go.Pie(labels = data[country].keys(),values = list(data[country]))])\n",
    "        fig.show()\n",
    "#         print(plot)\n",
    "    else :\n",
    "        print(\"No data available for this country for the year required\")\n"
   ]
  },
  {
   "cell_type": "markdown",
   "metadata": {},
   "source": [
    "\n",
    "Function to display pie chart of Number of deaths for a specific year to compare among all countries\n",
    "\n"
   ]
  },
  {
   "cell_type": "code",
   "execution_count": null,
   "metadata": {},
   "outputs": [],
   "source": [
    "##function to display pie chart for a specific year to compare among all countries\n",
    "\n",
    "def pie_chart_for_an_year(year = 2018):\n",
    "    \n",
    "#     year_column = 'y_' + str(year)\n",
    "#     required_data = \"SELECT A.Country_Name AS Country , A.\"+year_column+\" AS AGE_5_14 ,I.\"+year_column+\" AS INFANT ,N.\"+year_column+\" AS NEONATAL ,U.\"+year_column+\" AS UNDER_5  FROM A_5_14_DEATHS_B_M A INNER JOIN INFANT_DEATHS_B_M I USING (ISO_Code) INNER JOIN NEONATAL_DEATHS_B_M N USING (ISO_Code) INNER JOIN U5MR_DEATHS_B_M U USING (ISO_Code)\"\n",
    "    df = deaths_data_every_year[year][['Country', 'AGE_5_14', 'INFANT', 'NEONATAL', 'UNDER_5']]\n",
    "    df['Total Deaths'] = df ['AGE_5_14'] + df ['INFANT'] + df ['NEONATAL'] + df ['UNDER_5']\n",
    "    df_total_deaths = df[['Country','Total Deaths']]\n",
    "    total = 'Total Deaths'\n",
    "    data = df_total_deaths.set_index('Country')\n",
    "    d_c = data.transpose()\n",
    "    fig = go.Figure(data = [go.Pie(labels = d_c.keys(),values = list(data[total]))])\n",
    "    fig.show()\n"
   ]
  },
  {
   "cell_type": "markdown",
   "metadata": {},
   "source": [
    "\n",
    "Function to display pie chart of Mortality Rates for a specific year to compare among all countries\n"
   ]
  },
  {
   "cell_type": "code",
   "execution_count": null,
   "metadata": {},
   "outputs": [],
   "source": [
    "##function to display pie chart for a specific year to compare among all countries\n",
    "\n",
    "def pie_chart_of_mortality_for_an_year(year = 2018):\n",
    "    \n",
    "#     year_column = 'y_' + str(year)\n",
    "#     required_data = \"SELECT A.Country_Name AS Country , A.\"+year_column+\" AS AGE_5_14 ,I.\"+year_column+\" AS INFANT ,N.\"+year_column+\" AS NEONATAL ,U.\"+year_column+\" AS UNDER_5  FROM A_5_14_DEATHS_B_M A INNER JOIN INFANT_DEATHS_B_M I USING (ISO_Code) INNER JOIN NEONATAL_DEATHS_B_M N USING (ISO_Code) INNER JOIN U5MR_DEATHS_B_M U USING (ISO_Code)\"\n",
    "    df = mortality_rate_data_every_year[year][['Country', 'AGE_5_14', 'INFANT', 'NEONATAL', 'UNDER_5']]\n",
    "    df['Total Deaths'] = df ['AGE_5_14'] + df ['INFANT'] + df ['NEONATAL'] + df ['UNDER_5']\n",
    "    df_total_mortality_rate = df[['Country','Total Deaths']]\n",
    "    total = 'Total Deaths'\n",
    "    data = df_total_mortality_rate.set_index('Country')\n",
    "    d_c = data.transpose()\n",
    "    fig = go.Figure(data = [go.Pie(labels = d_c.keys(),values = list(data[total]))])\n",
    "    fig.show()\n"
   ]
  },
  {
   "cell_type": "markdown",
   "metadata": {},
   "source": [
    "\n",
    "Defining slider\n"
   ]
  },
  {
   "cell_type": "code",
   "execution_count": null,
   "metadata": {},
   "outputs": [],
   "source": [
    "## defining slider\n",
    "keys=deaths_data_every_year[1960].keys()\n",
    "keys=['AGE_5_14', 'INFANT', 'NEONATAL', 'UNDER_5']\n",
    "\n",
    "slider_min=1950\n",
    "slider_max=2018\n",
    "slider_step=1"
   ]
  },
  {
   "cell_type": "markdown",
   "metadata": {},
   "source": [
    "\n",
    "Defining function which takes input and returns suggestions for the user\n"
   ]
  },
  {
   "cell_type": "code",
   "execution_count": null,
   "metadata": {},
   "outputs": [],
   "source": [
    "## function which takes input and returns suggestions for the user\n",
    "\n",
    "def possible_countries(country):\n",
    "\n",
    "    d = ''\n",
    "    possible_country_list = []\n",
    "    possible_country_list = case_insensitive_country_names.copy()\n",
    "    for i in country.lower() :\n",
    "        out = []\n",
    "        d += i\n",
    "#         print(d)\n",
    "        for j in possible_country_list:\n",
    "\n",
    "            if j.startswith(d):\n",
    "\n",
    "                out.append(j)\n",
    "\n",
    "        if len(out) == 0:\n",
    "\n",
    "            return possible_country_list\n",
    "\n",
    "        out.sort()\n",
    "        possible_country_list = out.copy()\n",
    "\n",
    "    return possible_country_list\n",
    "\n"
   ]
  },
  {
   "cell_type": "code",
   "execution_count": null,
   "metadata": {},
   "outputs": [],
   "source": [
    "####     deaths (trend) over all years for all countries \n",
    "# deaths_data_every_year={}\n",
    "# db_file = 'project.db'\n",
    "# conn = create_connection(db_file)\n",
    "# for yr in np.arange(1950,2019):\n",
    "#     i = str(yr)\n",
    "#     with conn :\n",
    "#         cur = conn.cursor()\n",
    "#         deaths_data = pd.read_sql_query(\"SELECT A.ISO_Code AS ISO_Code, A.Country_Name AS Country , A.y_\"+i+\" AS AGE_5_14 ,I.y_\"+i+\" AS INFANT ,N.y_\"+i+\" AS NEONATAL ,U.y_\"+i+\" AS UNDER_5  FROM A_5_14_DEATHS_B_M A INNER JOIN INFANT_DEATHS_B_M I USING (ISO_Code) INNER JOIN NEONATAL_DEATHS_B_M N USING (ISO_Code) INNER JOIN U5MR_DEATHS_B_M U USING (ISO_Code)\",conn);\n",
    "#         deaths_data_every_year[yr]=deaths_data\n",
    "# conn.close()\n",
    "#\n",
    "output=[]\n",
    "for step in np.arange(slider_min, slider_max, slider_step):\n",
    "    yr=step\n",
    "    o1=deaths_data_every_year[yr].copy()\n",
    "    o1[keys]=o1[keys].apply(pd.to_numeric, errors='coerce')\n",
    "    output.append(o1[keys].sum())\n",
    "output=pd.DataFrame(output)\n",
    "\n",
    "\n",
    "fig = go.Figure()\n",
    "x=np.arange(slider_min, slider_max, slider_step)\n",
    "for k in output.columns:\n",
    "    fig.add_trace(go.Scatter(x=x, y=output[k],\n",
    "                        mode='lines+markers',\n",
    "                        name=k))\n",
    "    \n",
    "fig.update_layout(\n",
    "    title=go.layout.Title(\n",
    "        text='Child Mortality Worldwide',\n",
    "        xref=\"paper\",\n",
    "        x=0\n",
    "    ),paper_bgcolor='rgba(0,0,0,0)',\n",
    "plot_bgcolor='rgba(0,0,0,0)',\n",
    "    xaxis=go.layout.XAxis(\n",
    "        title=go.layout.xaxis.Title(\n",
    "            text=\"Year\",\n",
    "            font=dict(\n",
    "                family=\"Courier New, monospace\",\n",
    "                size=18,\n",
    "                color=\"#7f7f7f\"\n",
    "            )\n",
    "        )\n",
    "    ),\n",
    "    yaxis=go.layout.YAxis(\n",
    "        title=go.layout.yaxis.Title(\n",
    "            text=\"# Deaths\",\n",
    "            font=dict(\n",
    "                family=\"Courier New, monospace\",\n",
    "                size=18,\n",
    "                color=\"#7f7f7f\"\n",
    "            )\n",
    "        )\n",
    "    )\n",
    ")\n",
    "\n",
    "fig.show()"
   ]
  },
  {
   "cell_type": "markdown",
   "metadata": {},
   "source": [
    "\n",
    "\n",
    "Displays trend in mortality rates for all the countries over all years\n"
   ]
  },
  {
   "cell_type": "code",
   "execution_count": null,
   "metadata": {},
   "outputs": [],
   "source": [
    "# Trend in mortality rates for all the countries over all years\n",
    "\n",
    "fig={}\n",
    "for kk in keys: #iter 1\n",
    "    fig[kk] = go.Figure()\n",
    "\n",
    "# x=np.arange(slider_min, slider_max, slider_step)\n",
    "for country in range(len(mortality_rate_data_every_year[1960])):\n",
    "    \n",
    "    for kk in keys: #iter 2\n",
    "        c_out=[ mortality_rate_data_every_year[yr][kk].loc[country] for yr in np.arange(1950,2019)]\n",
    "        fig[kk].add_trace(go.Scatter(x=np.arange(1960,2019,1), y=c_out,\n",
    "                            mode='lines',\n",
    "                            opacity=0.5,\n",
    "                            name=mortality_rate_data_every_year[yr]['Country'].loc[country] ))\n",
    "    \n",
    "    fig[kk].update_layout(\n",
    "        title=go.layout.Title(\n",
    "            text='Child Mortality Worldwide',\n",
    "            xref=\"paper\",\n",
    "            x=0\n",
    "        ),paper_bgcolor='rgba(0,0,0,0)',\n",
    "    plot_bgcolor='rgba(0,0,0,0)',\n",
    "        xaxis=go.layout.XAxis(\n",
    "            title=go.layout.xaxis.Title(\n",
    "                text=\"Year\",\n",
    "                font=dict(\n",
    "                    family=\"Courier New, monospace\",\n",
    "                    size=18,\n",
    "                    color=\"#7f7f7f\"\n",
    "                )\n",
    "            )\n",
    "        ),\n",
    "        yaxis=go.layout.YAxis(\n",
    "            title=go.layout.yaxis.Title(\n",
    "                text=\"# Mortality Rate\",\n",
    "                font=dict(\n",
    "                    family=\"Courier New, monospace\",\n",
    "                    size=18,\n",
    "                    color=\"#7f7f7f\"\n",
    "                )\n",
    "            )\n",
    "        )\n",
    "    )\n",
    "\n",
    "fig[kk]"
   ]
  },
  {
   "cell_type": "markdown",
   "metadata": {},
   "source": [
    "\n",
    "World map visualization\n",
    "\n"
   ]
  },
  {
   "cell_type": "code",
   "execution_count": null,
   "metadata": {},
   "outputs": [],
   "source": [
    "#### world map visualization\n",
    "yr = 1990\n",
    "keys=mortality_rate_data_every_year[1960].keys()\n",
    "keys=['AGE_5_14', 'INFANT', 'NEONATAL', 'UNDER_5']\n",
    "\n",
    "slider_min=1950\n",
    "slider_max=2018\n",
    "slider_step=1\n",
    "\n",
    "\n",
    "fig1={}\n",
    "for kk in keys: #iter 1\n",
    "    fig1[kk] = go.Figure()\n",
    "for step in np.arange(slider_min, slider_max, slider_step):\n",
    "    yr=step\n",
    "    output=mortality_rate_data_every_year[yr].copy()\n",
    "    output[keys]=output[keys].apply(pd.to_numeric, errors='coerce')\n",
    "#     output[keys].loc[0]=output[keys].loc[0].fillna(0)\n",
    "#     output=output.fillna(method='ffill')\n",
    "#     output=output.fillna(method='bfill')\n",
    "    N=output.shape[0]\n",
    "    \n",
    "    t=[\"\",np.dtype('>U64')]*N\n",
    "    for i in range(N):\n",
    "        temp=np.dtype('>U64')\n",
    "        temp='Year:'+str(yr)+\"<br>\"\n",
    "        for kk in ['Country','AGE_5_14', 'INFANT', 'NEONATAL', 'UNDER_5']:\n",
    "            temp=temp+str(kk)+\":\"+output[kk].astype('str')[i]+\"<br>\"\n",
    "        t[i]=temp\n",
    "\n",
    "    for kk in keys: #iter 2\n",
    "        if kk in keys:\n",
    "            sizes=50*(output[kk]-min(output[kk]))/(max(output[kk])-min(output[kk]))\n",
    "        else:\n",
    "            sizes=5\n",
    "\n",
    "        fig1[kk].add_trace(go.Choropleth(\n",
    "                    locations=output['ISO_Code'],\n",
    "                    z = output['UNDER_5'],\n",
    "                    text = output['Country'],\n",
    "                    colorscale = 'Blues',\n",
    "                    autocolorscale=False,\n",
    "                    reversescale=True,\n",
    "                    marker_line_color='darkgray',\n",
    "                    marker_line_width=0.5,\n",
    "                    name=\"Year = \" + str(step),\n",
    "                #     colorbar_tickprefix = '',\n",
    "#                     colorbar_title = '$',\n",
    "                    ))\n",
    "\n",
    "\n",
    "for kk in keys: #iter 3\n",
    "    fig1[kk].data[0].visible = True\n",
    "    # Create and add slider\n",
    "    steps = []\n",
    "    for i in range(len(fig1[kk].data)):\n",
    "        step = dict(\n",
    "            method=\"restyle\",\n",
    "            args=[\"visible\", [False] * len(fig1[kk].data)],\n",
    "        )\n",
    "        step[\"args\"][1][i] = True  # Toggle i'th trace to \"visible\"\n",
    "        steps.append(step)\n",
    "\n",
    "    sliders = [dict(\n",
    "        active=10,\n",
    "        currentvalue={\"prefix\": \"Year: \"},\n",
    "        pad={\"t\": 50},\n",
    "        steps=steps\n",
    "    )]\n",
    "\n",
    "    fig1[kk].update_layout(\n",
    "        sliders=sliders\n",
    "    )\n",
    "    fig1[kk].update_layout(\n",
    "        title=go.layout.Title(\n",
    "            text='Relative child mortality across the globe',\n",
    "            xref=\"paper\",\n",
    "            x=0\n",
    "        ),paper_bgcolor='rgba(0,0,0,0)',\n",
    "    plot_bgcolor='rgba(0,0,0,0)',\n",
    "        xaxis=go.layout.XAxis(\n",
    "            title=go.layout.xaxis.Title(\n",
    "                text=\"x Axis\",\n",
    "                font=dict(\n",
    "                    family=\"Courier New, monospace\",\n",
    "                    size=18,\n",
    "                    color=\"#7f7f7f\"\n",
    "                )\n",
    "            )\n",
    "        ),\n",
    "        yaxis=go.layout.YAxis(\n",
    "            title=go.layout.yaxis.Title(\n",
    "                text=\"y Axis\",\n",
    "                font=dict(\n",
    "                    family=\"Courier New, monospace\",\n",
    "                    size=18,\n",
    "                    color=\"#7f7f7f\"\n",
    "                )\n",
    "            )\n",
    "        )\n",
    "    )\n"
   ]
  },
  {
   "cell_type": "code",
   "execution_count": null,
   "metadata": {},
   "outputs": [],
   "source": [
    "fig1[kk]"
   ]
  },
  {
   "cell_type": "markdown",
   "metadata": {},
   "source": [
    "\n",
    "Displays pie chart for Number of deaths for any year with the help of slider\n"
   ]
  },
  {
   "cell_type": "code",
   "execution_count": null,
   "metadata": {},
   "outputs": [],
   "source": [
    "## displays pie chart of deaths for any year ( slider is provided)\n",
    "\n",
    "from __future__ import print_function\n",
    "from ipywidgets import interact, interactive, fixed, interact_manual\n",
    "import ipywidgets as widgets\n",
    "db_file = 'project.db'\n",
    "conn = create_connection(db_file)\n",
    "def f(year) :\n",
    "    with conn :\n",
    "        pie_chart_for_an_year(year)\n",
    "interact(f, year =widgets.IntSlider(min=1950, max=2018, step=1));\n",
    "        "
   ]
  },
  {
   "cell_type": "markdown",
   "metadata": {},
   "source": [
    "\n",
    "Displays pie chart for Mortality rate for any year with the help of slider\n",
    "\n"
   ]
  },
  {
   "cell_type": "code",
   "execution_count": null,
   "metadata": {},
   "outputs": [],
   "source": [
    "## displays pie chart for mortality rate for any year ( slider is provided)\n",
    "\n",
    "from __future__ import print_function\n",
    "from ipywidgets import interact, interactive, fixed, interact_manual\n",
    "import ipywidgets as widgets\n",
    "db_file = 'project.db'\n",
    "conn = create_connection(db_file)\n",
    "def f(year) :\n",
    "    with conn :\n",
    "        pie_chart_of_mortality_for_an_year(year)\n",
    "interact(f, year =widgets.IntSlider(min=1950, max=2018, step=1));\n",
    "        \n",
    "        \n"
   ]
  },
  {
   "cell_type": "markdown",
   "metadata": {},
   "source": [
    "\n",
    "Displays pie chart of Number of deaths for a country in a particular year\n"
   ]
  },
  {
   "cell_type": "code",
   "execution_count": null,
   "metadata": {},
   "outputs": [],
   "source": [
    "## run to display desired pie chart of deaths for a country in a particular year\n",
    "\n",
    "class invalid(Exception):\n",
    "    pass\n",
    "class future(Exception):\n",
    "    pass\n",
    "class past(Exception):\n",
    "    pass\n",
    "# class invalid(Exception):\n",
    "#     pass\n",
    "db_file = 'project.db'\n",
    "conn = create_connection(db_file)\n",
    "\n",
    "def input_the_country_name():\n",
    "    \n",
    "    try:\n",
    "\n",
    "        country = input('Enter the country name : ')\n",
    "        country = country.lower()\n",
    "        if country not in case_insensitive_country_names :\n",
    "            raise invalid\n",
    "        else :\n",
    "\n",
    "            year = input('Enter the year you are looking for : ')\n",
    "            try :\n",
    "                year = int(year)\n",
    "                if year > 2018 :\n",
    "                    raise future\n",
    "                elif year < 1950 :\n",
    "                    raise past\n",
    "                else :\n",
    "                    with conn :\n",
    "\n",
    "                        pie_chart_country_year(country,year)\n",
    "            except ValueError :\n",
    "                print(\"Please print a valid year\")\n",
    "            except future:\n",
    "                print(\"future data not available\")\n",
    "            except past:\n",
    "                print(\"Sorry! The power of the data has not been realized yet . Please enter any year after 1950\")\n",
    "\n",
    "    except invalid:\n",
    "        possible_country_list = possible_countries(country)\n",
    "\n",
    "        if len(possible_country_list) == len(country_names_list) :\n",
    "            print(\"Country entered is invalid \")\n",
    "        else :\n",
    "            print(\"Entered country is wrong . Please check the below suggestions :\\n\",[i.title() for i in possible_country_list])\n",
    "            input_the_country_name()\n",
    "input_the_country_name()\n",
    "\n"
   ]
  },
  {
   "cell_type": "markdown",
   "metadata": {},
   "source": [
    "\n",
    "\n",
    "Displays pie chart of Number of deaths for a country in a particular year with the help of slider to compare the trends throughout the years.\n"
   ]
  },
  {
   "cell_type": "code",
   "execution_count": null,
   "metadata": {},
   "outputs": [],
   "source": [
    "## displays pie chart by taking country name as input and a slider is provided\n",
    "\n",
    "from __future__ import print_function\n",
    "from ipywidgets import interact, interactive, fixed, interact_manual\n",
    "import ipywidgets as widgets\n",
    "\n",
    "\n",
    "class invalid(Exception):\n",
    "    pass\n",
    "\n",
    "\n",
    "db_file = 'project.db'\n",
    "conn = create_connection(db_file)\n",
    "def input_the_country_name():\n",
    "    try:\n",
    "\n",
    "        country = input('Enter the country name : ')\n",
    "        country = country.lower()\n",
    "        if country not in case_insensitive_country_names :\n",
    "            raise invalid\n",
    "        else :\n",
    "            def f(year) :\n",
    "                with conn :\n",
    "                    pie_chart_country_year(country,year)\n",
    "            interact(f, year =widgets.IntSlider(min=1950, max=2018, step=1));\n",
    "\n",
    "\n",
    "    except invalid:\n",
    "        possible_country_list = possible_countries(country)\n",
    "\n",
    "        if len(possible_country_list) == len(country_names_list) :\n",
    "            print(\"Country entered is invalid \")\n",
    "        else :\n",
    "            print(\"Entered country is wrong . Please check the below suggestions :\\n\",[i.title() for i in possible_country_list])\n",
    "            input_the_country_name()\n",
    "input_the_country_name()\n",
    "\n"
   ]
  },
  {
   "cell_type": "markdown",
   "metadata": {},
   "source": [
    "\n",
    "Creating pandas data frame to visualize a line graph\n"
   ]
  },
  {
   "cell_type": "code",
   "execution_count": null,
   "metadata": {},
   "outputs": [],
   "source": [
    "# creating pandas data frame to visualize a line graph\n",
    "a= []\n",
    "b= []\n",
    "db_file = 'project.db'\n",
    "conn = create_connection(db_file)\n",
    "\n",
    "for i in list_of_tables_in_db :\n",
    "    if not i.endswith('_M'):\n",
    "        with conn :\n",
    "            cur = conn.cursor()\n",
    "            sq = 'SELECT *  FROM ' + i +';'\n",
    "            df_name = i.lower()\n",
    "            df_name = pd.read_sql_query(sq,conn);\n",
    "            a.append(i.lower())\n",
    "            b.append(df_name)\n",
    "\n",
    "dic = dict(zip(a,b))\n",
    "            "
   ]
  },
  {
   "cell_type": "markdown",
   "metadata": {},
   "source": [
    "\n",
    "Defined a function to plot line graph of mortality rates for a country over years\n"
   ]
  },
  {
   "cell_type": "code",
   "execution_count": null,
   "metadata": {},
   "outputs": [],
   "source": [
    "# function to plot line graph to mortality rates for a country over years\n",
    "def line_graph_over_the_years (country):\n",
    "    c = country.title()\n",
    "    years = [i for i in range(1950,2019)]\n",
    "    for i in dic.keys():\n",
    "        if 'mortality_rate' in i :\n",
    "            df=dic[i]\n",
    "            category = i.split(\"_m\")\n",
    "            lower = np.array(df[df['Uncertainty_bounds']=='Lower'][df[df['Uncertainty_bounds']=='Lower']['Country_Name']==c])[0][3:]\n",
    "            upper = np.array(df[df['Uncertainty_bounds']=='Upper'][df[df['Uncertainty_bounds']=='Upper']['Country_Name']==c])[0][3:]\n",
    "            median = np.array(df[df['Uncertainty_bounds']=='Median'][df[df['Uncertainty_bounds']=='Median']['Country_Name']==c])[0][3:]\n",
    "            trace0 = go.Scatter(\n",
    "                x = years, \n",
    "                y = upper,\n",
    "                fill= None,\n",
    "                mode='lines',\n",
    "                name='Upper',\n",
    "                line=dict(\n",
    "                    color='rgb(225,0,0 )',\n",
    "                )\n",
    "            )\n",
    "            trace1 = go.Scatter(\n",
    "                x = years, \n",
    "                y = lower,\n",
    "                fill='tonexty',\n",
    "                mode='lines',\n",
    "                name='Lower',\n",
    "                line=dict(\n",
    "                    color='rgb(255, 0, 0)',\n",
    "                )\n",
    "            )\n",
    "            trace2 = go.Scatter(\n",
    "                x = years, \n",
    "                y = median,\n",
    "                name='Average',\n",
    "                line=dict(\n",
    "                    color='rgb(1, 1, 1)',\n",
    "                )\n",
    "            )\n",
    "            data = [trace0, trace1, trace2]\n",
    "\n",
    "            layout = go.Layout(\n",
    "                xaxis=dict(title='year'),\n",
    "                yaxis=dict(title=category[0].title()+' Moratality Rate'),\n",
    "                title=category[0].title()+' Mortality rate for ' + c + ' over the years',\n",
    "                showlegend = False)\n",
    "\n",
    "            fig = go.Figure(data=data, layout=layout)\n",
    "            py.iplot(fig)\n",
    "            "
   ]
  },
  {
   "cell_type": "markdown",
   "metadata": {},
   "source": [
    "\n",
    "Displaying line graphs for a country over years with range (Upper and Lower) for all four categories\n"
   ]
  },
  {
   "cell_type": "code",
   "execution_count": null,
   "metadata": {},
   "outputs": [],
   "source": [
    "db_file = 'project.db'\n",
    "conn = create_connection(db_file)\n",
    "def input_the_country_name():\n",
    "    try:\n",
    "\n",
    "        country = input('Enter the country name : ')\n",
    "#         org_country = country\n",
    "        country = country.lower()\n",
    "        if country not in case_insensitive_country_names :\n",
    "            raise invalid\n",
    "        else :\n",
    "            line_graph_over_the_years (country)\n",
    "    except invalid:\n",
    "        possible_country_list = possible_countries(country)\n",
    "\n",
    "        if len(possible_country_list) == len(country_names_list) :\n",
    "            print(\"Country entered is invalid \")\n",
    "        else :\n",
    "            print(\"Entered country is wrong . Please check the below suggestions :\\n\",[i.title() for i in possible_country_list])\n",
    "            input_the_country_name()\n",
    "input_the_country_name()\n"
   ]
  },
  {
   "cell_type": "code",
   "execution_count": null,
   "metadata": {},
   "outputs": [],
   "source": []
  }
 ],
 "metadata": {
  "kernelspec": {
   "display_name": "Python 3",
   "language": "python",
   "name": "python3"
  },
  "language_info": {
   "codemirror_mode": {
    "name": "ipython",
    "version": 3
   },
   "file_extension": ".py",
   "mimetype": "text/x-python",
   "name": "python",
   "nbconvert_exporter": "python",
   "pygments_lexer": "ipython3",
   "version": "3.7.4"
  }
 },
 "nbformat": 4,
 "nbformat_minor": 2
}
